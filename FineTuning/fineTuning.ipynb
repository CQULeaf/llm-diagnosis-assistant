{
 "cells": [
  {
   "cell_type": "markdown",
   "id": "ed7c8a9d",
   "metadata": {},
   "source": [
    "# 模型微调流程"
   ]
  },
  {
   "cell_type": "markdown",
   "id": "d175d986",
   "metadata": {},
   "source": [
    "## 导入模型"
   ]
  },
  {
   "cell_type": "code",
   "execution_count": null,
   "id": "ee8fca0f",
   "metadata": {},
   "outputs": [
    {
     "name": "stdout",
     "output_type": "stream",
     "text": [
      "🦥 Unsloth: Will patch your computer to enable 2x faster free finetuning.\n"
     ]
    },
    {
     "name": "stderr",
     "output_type": "stream",
     "text": [
      "c:\\Users\\23756\\miniconda3\\envs\\unsloth\\Lib\\site-packages\\tqdm\\auto.py:21: TqdmWarning: IProgress not found. Please update jupyter and ipywidgets. See https://ipywidgets.readthedocs.io/en/stable/user_install.html\n",
      "  from .autonotebook import tqdm as notebook_tqdm\n"
     ]
    },
    {
     "name": "stdout",
     "output_type": "stream",
     "text": [
      "🦥 Unsloth Zoo will now patch everything to make training faster!\n"
     ]
    }
   ],
   "source": [
    "from unsloth import FastLanguageModel\n",
    "import torch\n",
    "import os\n",
    "from datasets import load_dataset\n",
    "from config import BASE_MODEL_PATH, NON_REASON_DATASET_PATH, REASON_DATASET_PATH, LORA_SAVE_PATH, MERGED_MODEL_PATH, COMBINED_DATASET_PATH\n",
    "#初始释放显存\n",
    "torch.cuda.empty_cache()"
   ]
  },
  {
   "cell_type": "code",
   "execution_count": 2,
   "id": "775e7e5d",
   "metadata": {},
   "outputs": [
    {
     "name": "stderr",
     "output_type": "stream",
     "text": [
      "c:\\Users\\23756\\miniconda3\\envs\\unsloth\\Lib\\site-packages\\unsloth_zoo\\gradient_checkpointing.py:341: UserWarning: expandable_segments not supported on this platform (Triggered internally at C:\\actions-runner\\_work\\pytorch\\pytorch\\pytorch\\c10/cuda/CUDAAllocatorConfig.h:28.)\n",
      "  GPU_BUFFERS = tuple([torch.empty(2*256*2048, dtype = dtype, device = f\"{DEVICE_TYPE}:{i}\") for i in range(n_gpus)])\n"
     ]
    },
    {
     "name": "stdout",
     "output_type": "stream",
     "text": [
      "==((====))==  Unsloth 2025.6.5: Fast Qwen3 patching. Transformers: 4.52.4.\n",
      "   \\\\   /|    NVIDIA GeForce RTX 3070 Ti Laptop GPU. Num GPUs = 1. Max memory: 8.0 GB. Platform: Windows.\n",
      "O^O/ \\_/ \\    Torch: 2.7.0+cu126. CUDA: 8.6. CUDA Toolkit: 12.6. Triton: 3.3.1\n",
      "\\        /    Bfloat16 = TRUE. FA [Xformers = 0.0.30. FA2 = False]\n",
      " \"-____-\"     Free license: http://github.com/unslothai/unsloth\n",
      "Unsloth: Fast downloading is enabled - ignore downloading bars which are red colored!\n"
     ]
    },
    {
     "name": "stderr",
     "output_type": "stream",
     "text": [
      "Loading checkpoint shards: 100%|██████████| 3/3 [00:15<00:00,  5.29s/it]\n"
     ]
    }
   ],
   "source": [
    "os.environ[\"CUDA_VISIBLE_DEVICES\"] = \"1\"\n",
    "max_seq_length = 8192\n",
    "dtype = None\n",
    "load_in_4bit = True\n",
    "model, tokenizer = FastLanguageModel.from_pretrained(\n",
    "    model_name = BASE_MODEL_PATH,\n",
    "    max_seq_length = max_seq_length,\n",
    "    dtype = dtype,\n",
    "    load_in_4bit = load_in_4bit,\n",
    ")"
   ]
  },
  {
   "cell_type": "markdown",
   "id": "3b3621a3",
   "metadata": {},
   "source": [
    "## 导入数据集\n",
    "此处应为数据集处理脚本"
   ]
  },
  {
   "cell_type": "markdown",
   "id": "4d5a2c11",
   "metadata": {},
   "source": [
    "### 无思考数据集在此处"
   ]
  },
  {
   "cell_type": "markdown",
   "id": "3f70b7f9",
   "metadata": {},
   "source": [
    "### AIpacaHandler\n",
    "此为AIpaca格式数据集处理方法\n",
    "自动合并多个无思考数据集"
   ]
  },
  {
   "cell_type": "code",
   "execution_count": 3,
   "id": "44a7bae8",
   "metadata": {},
   "outputs": [
    {
     "name": "stdout",
     "output_type": "stream",
     "text": [
      "共加载无思考对话数: 4337\n"
     ]
    }
   ],
   "source": [
    "import json\n",
    "from datasets import load_dataset\n",
    "from config import BASE_MODEL_PATH, NON_REASON_DATASET_PATH, REASON_DATASET_PATH, LORA_SAVE_PATH, MERGED_MODEL_PATH\n",
    "all_conversations = []\n",
    "for path in NON_REASON_DATASET_PATH:\n",
    "    ds = load_dataset(data_files=path, split=\"train\", path=\"json\")\n",
    "\n",
    "    for sample in ds:\n",
    "        user_msg = {\n",
    "            \"role\": \"user\",\n",
    "            \"content\": sample[\"instruction\"] + ((\"\\n\" + sample[\"input\"]) if sample.get(\"input\") else \"\")\n",
    "        }\n",
    "        assistant_msg = {\n",
    "            \"role\": \"assistant\",\n",
    "            \"content\": sample[\"output\"]\n",
    "        }\n",
    "        all_conversations.append([user_msg, assistant_msg])\n",
    "\n",
    "non_reasoning_dataset = {\"conversations\": all_conversations}\n",
    "print(f\"共加载无思考对话数: {len(non_reasoning_dataset['conversations'])}\")"
   ]
  },
  {
   "cell_type": "code",
   "execution_count": 4,
   "id": "b697aad6",
   "metadata": {},
   "outputs": [
    {
     "data": {
      "text/plain": [
       "[{'role': 'user', 'content': '咽喉痉挛是什么'},\n",
       " {'role': 'assistant',\n",
       "  'content': '咽喉痉挛是咽喉部的肌肉痉挛，正确的名称应该是咽肌痉挛和喉痉挛。咽肌痉挛就是软腭和咽肌发生规律的或不规律的收缩运动，甚者每分钟可达60～100次以上，与脉搏、呼吸无关。\\n\\n单纯的咽肌痉挛，大多原因不明。慢性咽炎病人、烟酒过度者、鼻分泌物长期刺激咽部及外部物理化学因素的影响均有可能导致咽肌痉挛的发生。咽肌的阵发性强直性痉挛较少见，癌肿的疼痛可引起，狂犬病、破伤风和脑膜炎以及颅内疾患皆可能发生咽肌强直性阵挛。阵挛发作时，病人及旁人常可听到明显的肌肉收缩声。病人自诉可听见自己有耳鸣声，即所谓他觉性耳鸣；耳鸣声与脉搏不一致，压迫颈动脉时不消失，故为肌性他觉性耳鸣，病人常有自听过显之感，常有吞咽障碍，咽喉不适，反复作呕和局部痛感，常因精神恐惧和紧张而发作。\\n\\n喉痉挛分为成人喉痉挛，喉晕厥和蝉鸣性喉痉挛（小儿）。'}]"
      ]
     },
     "execution_count": 4,
     "metadata": {},
     "output_type": "execute_result"
    }
   ],
   "source": [
    "non_reasoning_dataset['conversations'][2000]"
   ]
  },
  {
   "cell_type": "code",
   "execution_count": 5,
   "id": "d56cdba6",
   "metadata": {},
   "outputs": [],
   "source": [
    "non_reasoning_conversations = tokenizer.apply_chat_template(\n",
    "    non_reasoning_dataset[\"conversations\"],\n",
    "    tokenize = False,\n",
    ")"
   ]
  },
  {
   "cell_type": "markdown",
   "id": "acf39a02",
   "metadata": {},
   "source": [
    "### 有思考数据集在此处"
   ]
  },
  {
   "cell_type": "markdown",
   "id": "6529156f",
   "metadata": {},
   "source": [
    "### AIpacaHandler\n",
    "此为AIpaca处理方法（有思考数据集）"
   ]
  },
  {
   "cell_type": "code",
   "execution_count": 6,
   "id": "7bf30057",
   "metadata": {},
   "outputs": [],
   "source": [
    "reasoning_dataset = load_dataset(data_files=REASON_DATASET_PATH, split = \"train\", path=\"json\")"
   ]
  },
  {
   "cell_type": "code",
   "execution_count": 7,
   "id": "d22eae00",
   "metadata": {},
   "outputs": [
    {
     "data": {
      "text/plain": [
       "{'instruction': 'Please answer the following multiple-choice question:\\nA factory worker presents with excessive salivation, blue lines on gums, tremors, disturbed personality, insomnia, and loss of appetite. The most likely poisoning is -?\\nA. Mercury\\nB. Lead\\nC. Arsenic\\nD. Phosphorus',\n",
       " 'input': '',\n",
       " 'output': \"<think>\\nThe patient is a factory worker presenting with excessive salivation, blue lines on the gums, tremors, disturbed personality, insomnia, and loss of appetite. These symptoms collectively suggest a form of heavy metal poisoning. To determine the most likely poisoning, it is essential to meticulously analyze each symptom in the context of the provided options: Mercury, Lead, Arsenic, and Phosphorus.\\n\\nExcessive salivation, also known as ptyalism, is a significant symptom to consider. This symptom is notably associated with mercury poisoning, particularly with elemental mercury exposure, which can disrupt autonomic functions leading to increased salivation. Tremors, especially fine intention tremors, are another hallmark of mercury toxicity, reflecting its profound effects on the central nervous system. Disturbed personality and insomnia further support the neurological impact of mercury, aligning with the erethism syndrome—a classic presentation of chronic mercury poisoning characterized by behavioral changes, irritability, and insomnia. Loss of appetite is a non-specific symptom but can be present in various toxic exposures, including mercury.\\n\\nThe presence of blue lines on the gums, known as Burton's lines, is traditionally a classic indicator of lead poisoning. These lines result from the deposition of lead sulfide at the gum margins, providing a distinctive clinical sign. Additionally, lead poisoning often presents with peripheral neuropathy, which can manifest as weakness or, in some cases, tremors. However, lead toxicity is more commonly associated with symptoms such as abdominal pain, constipation, and anemia rather than excessive salivation and significant personality changes.\\n\\nArsenic poisoning typically presents with acute gastrointestinal distress, including nausea, vomiting, diarrhea, and abdominal pain. Chronic exposure may lead to skin changes, such as hyperpigmentation and keratosis, as well as an increased risk of various cancers. While neurological symptoms can occur, they are generally not as prominent as in mercury or lead poisoning. The absence of characteristic skin lesions and the prominence of neurological symptoms make arsenic a less likely culprit in this scenario.\\n\\nPhosphorus poisoning, particularly from white phosphorus, can cause severe gastrointestinal symptoms similar to arsenic and may be associated with a garlic-like odor on the breath or vomit. Chronic exposure can lead to liver and kidney damage, but it is not typically associated with the neurological symptoms or the blue lines on the gums described in this patient.\\n\\nIn evaluating the options, Mercury emerges as the most plausible cause despite the presence of blue lines on the gums, which are more classically associated with lead poisoning. The constellation of excessive salivation, tremors, disturbed personality, insomnia, and loss of appetite aligns more closely with mercury toxicity. While Burton's lines are a strong indicator of lead exposure, the additional neurological symptoms presented by the patient—particularly excessive salivation and erethism—are more characteristic of mercury poisoning. It is possible that the blue lines in this case are either a less common manifestation of mercury toxicity or a coincidental finding not directly related to the acute presentation.\\n\\nContrasting Mercury and Lead poisoning, both can present with neurological symptoms such as tremors and cognitive disturbances. However, the specific combination of excessive salivation and erethism strongly favors mercury as the causative agent. Lead poisoning's hallmark Burton's lines, while present, are insufficient alone to outweigh the broader spectrum of neurological symptoms pointing towards mercury. Additionally, the absence of more pronounced gastrointestinal symptoms such as constipation and abdominal pain, which are more typical of lead toxicity, further diminishes the likelihood of lead poisoning in this context.\\n\\nIn synthesizing the information, the convergence of symptoms—excessive salivation, tremors, disturbed personality, insomnia, and loss of appetite—collectively points towards mercury poisoning as the most likely diagnosis. The presence of blue lines on the gums, although suggestive of lead poisoning, does not overshadow the predominant neurological manifestations consistent with mercury toxicity. Therefore, taking into account the entirety of the clinical presentation, mercury remains the most plausible cause among the provided options.\\n\\nThe correct answer is Mercury.\\n\\nClinicians should be aware that while certain symptoms like Burton's lines are strongly associated with specific poisonings, the overall clinical picture must guide the diagnosis. Excessive salivation and erethism are key indicators of mercury toxicity, and their presence should prompt consideration of mercury exposure even if other signs might initially suggest a different heavy metal poisoning. Recognizing the nuanced presentations of heavy metal toxicities is crucial for accurate diagnosis and timely management.\\n</think>\\nThe patient, a factory worker, exhibits symptoms including excessive salivation, blue lines on the gums, tremors, disturbed personality, insomnia, and loss of appetite, indicating potential heavy metal poisoning. Analyzing the symptoms in relation to possible toxins—Mercury, Lead, Arsenic, and Phosphorus—suggests mercury poisoning as the most likely cause. \\n\\nExcessive salivation and tremors are closely associated with mercury toxicity, particularly affecting the central nervous system, leading to behavioral changes and insomnia. Although blue lines on the gums are indicative of lead poisoning, the overall neurological symptoms and lack of typical lead symptoms (like abdominal pain and constipation) support mercury as the primary diagnosis. Arsenic and phosphorus poisoning present with different symptom profiles that do not align with this case.\\n\\nIn conclusion, despite the presence of Burton's lines, the predominant symptoms of excessive salivation, tremors, and personality changes point towards mercury poisoning as the most plausible diagnosis. Clinicians should consider the full clinical picture when diagnosing heavy metal poisoning, as certain symptoms may overlap between different toxins.\"}"
      ]
     },
     "execution_count": 7,
     "metadata": {},
     "output_type": "execute_result"
    }
   ],
   "source": [
    "reasoning_dataset[0]"
   ]
  },
  {
   "cell_type": "code",
   "execution_count": 8,
   "id": "b9e46161",
   "metadata": {},
   "outputs": [
    {
     "name": "stdout",
     "output_type": "stream",
     "text": [
      "<class 'dict'> 3000\n",
      "[{'role': 'user', 'content': \"Please answer the following multiple-choice question:\\nRett's syndrome occurs due to deficiency of ?\\nA. Niacin\\nB. Biotin\\nC. Carotene\\nD. Vit D\"}, {'role': 'assistant', 'content': \"<think>\\nRett's syndrome is a severe neurodevelopmental disorder that predominantly affects females and is characterized by a regression in cognitive and motor skills after a period of apparently normal development. It typically manifests in early childhood, with symptoms becoming noticeable between the ages of 6 to 18 months. The condition involves a range of neurological symptoms, including loss of purposeful hand movements, slowed growth, seizures, and difficulties with communication and social interaction. Importantly, Rett's syndrome is a genetic disorder caused by mutations in the MECP2 gene, which is located on the X chromosome. This gene plays a critical role in brain development and function by regulating the expression of other genes essential for neuronal function.\\n\\nIn analyzing the question, it's essential to recognize that Rett's syndrome is fundamentally a genetic disorder rather than a condition resulting from a deficiency of a specific nutrient or vitamin. The provided options—Niacin, Biotin, Carotene, and Vitamin D—are all vitamins, each with distinct roles in bodily functions. Niacin (vitamin B3) is crucial for energy metabolism and DNA repair, Biotin (vitamin B7) is important for carbohydrate, fat, and protein metabolism, Carotene is a precursor to vitamin A and is vital for vision and immune function, and Vitamin D is essential for calcium homeostasis and bone health. None of these vitamins are directly implicated in the pathogenesis of Rett's syndrome.\\n\\nReviewing the original chain-of-thought, there was a misinterpretation of the disease's etiology by focusing on vitamin deficiencies. Rett's syndrome's cause is not linked to nutritional deficiencies but rather to a specific genetic mutation. The MECP2 gene mutation disrupts normal brain development and function, leading to the clinical manifestations observed in Rett's syndrome. This genetic basis is well-documented in medical literature and is a cornerstone in understanding the disease's pathophysiology.\\n\\nOption-by-option analysis reveals the following:\\n\\n1. **Niacin**: Deficiency in Niacin leads to pellagra, which is characterized by dermatitis, diarrhea, and dementia. While neurological symptoms can occur, pellagra is unrelated to Rett's syndrome, which has a distinct genetic origin.\\n\\n2. **Biotin**: Biotin deficiency can cause neurological symptoms such as seizures, skin rashes, and hair loss. However, like Niacin, Biotin deficiency does not cause Rett's syndrome. The confusion may arise because both conditions involve neurological symptoms, but their etiologies are entirely different.\\n\\n3. **Carotene**: As a precursor to vitamin A, Carotene deficiency results in issues like night blindness and compromised immune function. There is no association between Carotene levels and Rett's syndrome.\\n\\n4. **Vitamin D**: Deficiency in Vitamin D leads to bone disorders such as rickets in children or osteomalacia in adults. It does not influence the neurological aspects seen in Rett's syndrome.\\n\\nGiven that Rett's syndrome is exclusively linked to genetic mutations, none of the provided options are accurate causes of the condition. However, in a multiple-choice scenario where an answer must be selected despite none being correct, **Biotin** might be chosen due to its association with neurological functions. This selection, though, would be technically incorrect, as Biotin deficiency does not cause Rett's syndrome. The error in the original attempt stemmed from conflating general neurological deficiencies with the specific genetic cause of Rett's syndrome.\\n\\nComparing Biotin to the other options, it's evident that while Biotin has neurological implications, so do the other vitamins, none specifically relate to Rett's syndrome's genetic basis. Therefore, differentiating between general nutrient deficiencies and specific genetic disorders is crucial in such clinical questions. The provided error feedback correctly identifies that the original reasoning erroneously links Rett's syndrome to a vitamin deficiency rather than its true genetic origin.\\n\\nIn conclusion, the accurate understanding is that Rett's syndrome is caused by mutations in the MECP2 gene, and none of the vitamin deficiencies listed—Niacin, Biotin, Carotene, or Vitamin D—are responsible for its development. Therefore, the correct answer is not among the provided options. However, if compelled to choose from the given list, Biotin would be the closest albeit incorrect option due to its neurological role, but it's essential to acknowledge that this selection does not reflect the actual cause of Rett's syndrome.\\n\\nA key clinical pearl is to always consider the fundamental nature of a disorder—distinguishing between genetic causes and nutritional deficiencies is vital for accurate diagnosis and management. Understanding the underlying mechanisms, such as the role of the MECP2 gene in Rett's syndrome, helps in differentiating it from other conditions with overlapping symptoms but different etiologies. This approach ensures precise clinical reasoning and appropriate patient care.\\n</think>\\nRett's syndrome is a severe neurodevelopmental disorder primarily affecting females, characterized by a regression in cognitive and motor skills after a period of normal development, typically noticeable between 6 to 18 months of age. It is caused by mutations in the MECP2 gene on the X chromosome, which is crucial for brain development and function. The condition presents with various neurological symptoms, including loss of purposeful hand movements, slowed growth, seizures, and communication difficulties.\\n\\nThe analysis clarifies that Rett's syndrome is a genetic disorder, not linked to deficiencies in vitamins such as Niacin, Biotin, Carotene, or Vitamin D. Each vitamin has distinct roles in the body, but none are implicated in the etiology of Rett's syndrome. The reasoning initially misinterpreted the condition's cause by associating it with vitamin deficiencies rather than recognizing its genetic basis.\\n\\nWhile Biotin has some neurological implications, it does not cause Rett's syndrome. The key takeaway is to differentiate between genetic disorders and nutritional deficiencies, which is essential for accurate diagnosis and management. Understanding the MECP2 gene's role is crucial in distinguishing Rett's syndrome from other conditions with similar symptoms but different causes. Thus, none of the listed vitamins are responsible for Rett's syndrome, and if forced to choose, Biotin would be the closest incorrect option due to its neurological relevance.\"}]\n"
     ]
    }
   ],
   "source": [
    "import json\n",
    "\n",
    "dataset = {\"conversations\": []}\n",
    "\n",
    "for sample in reasoning_dataset:\n",
    "    user_msg = {\n",
    "        \"role\": \"user\",\n",
    "        \"content\": sample[\"instruction\"] + ((\"\\n\" + sample[\"input\"]) if sample.get(\"input\") else \"\")\n",
    "    }\n",
    "    assistant_msg = {\n",
    "        \"role\": \"assistant\",\n",
    "        \"content\": sample[\"output\"]\n",
    "    }\n",
    "    dataset[\"conversations\"].append([user_msg, assistant_msg])\n",
    "\n",
    "print(type(dataset), len(dataset[\"conversations\"]))\n",
    "print(dataset[\"conversations\"][1])\n",
    "reasoning_dataset = dataset"
   ]
  },
  {
   "cell_type": "code",
   "execution_count": 9,
   "id": "9650bfed",
   "metadata": {},
   "outputs": [],
   "source": [
    "reasoning_conversations = tokenizer.apply_chat_template(\n",
    "    reasoning_dataset[\"conversations\"],\n",
    "    tokenize = False,\n",
    ")"
   ]
  },
  {
   "cell_type": "markdown",
   "id": "7b52ac8a",
   "metadata": {},
   "source": [
    "### 数据集合并\n",
    "有思考数据为reasoning_dataset  \n",
    "无思考数据为non_reasoning_dataset  \n",
    "现将二者合并为combined_dataset  "
   ]
  },
  {
   "cell_type": "code",
   "execution_count": 10,
   "id": "49259c20",
   "metadata": {},
   "outputs": [
    {
     "name": "stdout",
     "output_type": "stream",
     "text": [
      "3000\n",
      "4337\n"
     ]
    }
   ],
   "source": [
    "print(len(reasoning_conversations))\n",
    "print(len(non_reasoning_conversations))"
   ]
  },
  {
   "cell_type": "markdown",
   "id": "ea378be1",
   "metadata": {},
   "source": [
    "根据有思考和无思考数据比例合并"
   ]
  },
  {
   "cell_type": "code",
   "execution_count": 11,
   "id": "f23c14a9",
   "metadata": {},
   "outputs": [],
   "source": [
    "#这里就是调整比例\n",
    "chat_percentage = 0.75\n",
    "import pandas as pd\n",
    "reasoning_subset = pd.Series(reasoning_conversations)\n",
    "# reasoning_subset = reasoning_subset.sample(\n",
    "#     int(len(non_reasoning_conversations) / (1.0 - chat_percentage)),\n",
    "#     random_state = 2407,\n",
    "# )\n",
    "\n",
    "data = pd.concat([\n",
    "    pd.Series(non_reasoning_conversations),\n",
    "    pd.Series(reasoning_subset)\n",
    "])\n",
    "data.name = \"text\"\n",
    "\n",
    "from datasets import Dataset\n",
    "combined_dataset = Dataset.from_pandas(pd.DataFrame(data))\n",
    "combined_dataset = combined_dataset.shuffle(seed = 3407)"
   ]
  },
  {
   "cell_type": "code",
   "execution_count": 27,
   "id": "bd1df5fb",
   "metadata": {},
   "outputs": [
    {
     "data": {
      "text/plain": [
       "7337"
      ]
     },
     "execution_count": 27,
     "metadata": {},
     "output_type": "execute_result"
    }
   ],
   "source": [
    "len(combined_dataset)"
   ]
  },
  {
   "cell_type": "code",
   "execution_count": 28,
   "id": "dfd61dc4",
   "metadata": {},
   "outputs": [
    {
     "data": {
      "text/plain": [
       "Dataset({\n",
       "    features: ['text', '__index_level_0__'],\n",
       "    num_rows: 7337\n",
       "})"
      ]
     },
     "execution_count": 28,
     "metadata": {},
     "output_type": "execute_result"
    }
   ],
   "source": [
    "combined_dataset"
   ]
  },
  {
   "cell_type": "markdown",
   "id": "788bc163",
   "metadata": {},
   "source": [
    "可以将合并后的数据集导出，下次直接用此导入后训练"
   ]
  },
  {
   "cell_type": "code",
   "execution_count": null,
   "id": "866b164d",
   "metadata": {},
   "outputs": [
    {
     "name": "stderr",
     "output_type": "stream",
     "text": [
      "Creating json from Arrow format: 100%|██████████| 8/8 [00:01<00:00,  5.54ba/s]\n"
     ]
    },
    {
     "data": {
      "text/plain": [
       "37263409"
      ]
     },
     "execution_count": 21,
     "metadata": {},
     "output_type": "execute_result"
    }
   ],
   "source": [
    "combined_dataset.to_json(COMBINED_DATASET_PATH, force_ascii=False)"
   ]
  },
  {
   "cell_type": "markdown",
   "id": "b8abefb8",
   "metadata": {},
   "source": [
    "直接导入完全处理好的数据集"
   ]
  },
  {
   "cell_type": "code",
   "execution_count": null,
   "id": "6853ca78",
   "metadata": {},
   "outputs": [
    {
     "name": "stdout",
     "output_type": "stream",
     "text": [
      "<class 'datasets.arrow_dataset.Dataset'>\n",
      "7337\n"
     ]
    },
    {
     "data": {
      "text/plain": [
       "{'text': '<|im_start|>user\\n罗格列酮片的执行标准<|im_end|>\\n<|im_start|>assistant\\n<think>\\n\\n</think>\\n\\n国家食品药品监督管理局国家药品标准WS1-XG-019-2014。<|im_end|>\\n',\n",
       " '__index_level_0__': 3177}"
      ]
     },
     "execution_count": 30,
     "metadata": {},
     "output_type": "execute_result"
    }
   ],
   "source": [
    "from datasets import load_dataset\n",
    "\n",
    "# 直接用load_dataset加载json文件，得到的就是Dataset对象\n",
    "combined_dataset = load_dataset(\"json\", data_files=COMBINED_DATASET_PATH, split=\"train\")\n",
    "print(type(combined_dataset))\n",
    "print(len(combined_dataset))\n",
    "combined_dataset[0]"
   ]
  },
  {
   "cell_type": "markdown",
   "id": "1d2a97a1",
   "metadata": {},
   "source": [
    "## 模型训练"
   ]
  },
  {
   "cell_type": "code",
   "execution_count": 14,
   "id": "066491f0",
   "metadata": {},
   "outputs": [
    {
     "name": "stderr",
     "output_type": "stream",
     "text": [
      "Unsloth 2025.6.5 patched 36 layers with 36 QKV layers, 36 O layers and 36 MLP layers.\n",
      "average_tokens_across_devices is set to True but it is invalid when world size is1. Turn it to False automatically.\n",
      "Unsloth: Tokenizing [\"text\"]: 100%|██████████| 7337/7337 [00:04<00:00, 1515.58 examples/s]\n"
     ]
    }
   ],
   "source": [
    "model = FastLanguageModel.get_peft_model(\n",
    "    model,\n",
    "    r = 32,           # Choose any number > 0! Suggested 8, 16, 32, 64, 128\n",
    "    target_modules = [\"q_proj\", \"k_proj\", \"v_proj\", \"o_proj\",\n",
    "                      \"gate_proj\", \"up_proj\", \"down_proj\",],\n",
    "    lora_alpha = 32,  # Best to choose alpha = rank or rank*2\n",
    "    lora_dropout = 0, # Supports any, but = 0 is optimized\n",
    "    bias = \"none\",    # Supports any, but = \"none\" is optimized\n",
    "    # [NEW] \"unsloth\" uses 30% less VRAM, fits 2x larger batch sizes!\n",
    "    use_gradient_checkpointing = \"unsloth\", # True or \"unsloth\" for very long context\n",
    "    random_state = 3407,\n",
    "    use_rslora = False,   # We support rank stabilized LoRA\n",
    "    loftq_config = None,  # And LoftQ\n",
    ")\n",
    "from trl import SFTTrainer, SFTConfig\n",
    "trainer = SFTTrainer(\n",
    "    model = model,\n",
    "    tokenizer = tokenizer,\n",
    "    train_dataset = combined_dataset,\n",
    "    eval_dataset = None, # Can set up evaluation!\n",
    "    args = SFTConfig(\n",
    "        dataset_num_proc = 1,\n",
    "        dataset_text_field = \"text\",\n",
    "        per_device_train_batch_size = 2,\n",
    "        gradient_accumulation_steps = 4, # Use GA to mimic batch size!\n",
    "        warmup_steps = 5,\n",
    "        # num_train_epochs = 1, # Set this for 1 full training run.\n",
    "        max_steps = 30,\n",
    "        learning_rate = 2e-4, # Reduce to 2e-5 for long training runs\n",
    "        logging_steps = 1,\n",
    "        optim = \"adamw_8bit\",\n",
    "        weight_decay = 0.01,\n",
    "        lr_scheduler_type = \"linear\",\n",
    "        seed = 3407,\n",
    "        report_to = None, # Use this for WandB etc\n",
    "    ),\n",
    ")"
   ]
  },
  {
   "cell_type": "code",
   "execution_count": 16,
   "id": "e708bbe3",
   "metadata": {},
   "outputs": [
    {
     "name": "stderr",
     "output_type": "stream",
     "text": [
      "==((====))==  Unsloth - 2x faster free finetuning | Num GPUs used = 1\n",
      "   \\\\   /|    Num examples = 7,337 | Num Epochs = 1 | Total steps = 30\n",
      "O^O/ \\_/ \\    Batch size per device = 2 | Gradient accumulation steps = 4\n",
      "\\        /    Data Parallel GPUs = 1 | Total batch size (2 x 4 x 1) = 8\n",
      " \"-____-\"     Trainable parameters = 66,060,288/4,000,000,000 (1.65% trained)\n"
     ]
    },
    {
     "data": {
      "text/html": [
       "\n",
       "    <div>\n",
       "      \n",
       "      <progress value='30' max='30' style='width:300px; height:20px; vertical-align: middle;'></progress>\n",
       "      [30/30 10:11, Epoch 0/1]\n",
       "    </div>\n",
       "    <table border=\"1\" class=\"dataframe\">\n",
       "  <thead>\n",
       " <tr style=\"text-align: left;\">\n",
       "      <th>Step</th>\n",
       "      <th>Training Loss</th>\n",
       "    </tr>\n",
       "  </thead>\n",
       "  <tbody>\n",
       "    <tr>\n",
       "      <td>1</td>\n",
       "      <td>1.526800</td>\n",
       "    </tr>\n",
       "    <tr>\n",
       "      <td>2</td>\n",
       "      <td>1.584100</td>\n",
       "    </tr>\n",
       "    <tr>\n",
       "      <td>3</td>\n",
       "      <td>1.583900</td>\n",
       "    </tr>\n",
       "    <tr>\n",
       "      <td>4</td>\n",
       "      <td>1.363100</td>\n",
       "    </tr>\n",
       "    <tr>\n",
       "      <td>5</td>\n",
       "      <td>1.228800</td>\n",
       "    </tr>\n",
       "    <tr>\n",
       "      <td>6</td>\n",
       "      <td>1.184400</td>\n",
       "    </tr>\n",
       "    <tr>\n",
       "      <td>7</td>\n",
       "      <td>1.063300</td>\n",
       "    </tr>\n",
       "    <tr>\n",
       "      <td>8</td>\n",
       "      <td>1.208700</td>\n",
       "    </tr>\n",
       "    <tr>\n",
       "      <td>9</td>\n",
       "      <td>1.162000</td>\n",
       "    </tr>\n",
       "    <tr>\n",
       "      <td>10</td>\n",
       "      <td>1.153900</td>\n",
       "    </tr>\n",
       "    <tr>\n",
       "      <td>11</td>\n",
       "      <td>1.034500</td>\n",
       "    </tr>\n",
       "    <tr>\n",
       "      <td>12</td>\n",
       "      <td>1.062300</td>\n",
       "    </tr>\n",
       "    <tr>\n",
       "      <td>13</td>\n",
       "      <td>1.121300</td>\n",
       "    </tr>\n",
       "    <tr>\n",
       "      <td>14</td>\n",
       "      <td>1.308100</td>\n",
       "    </tr>\n",
       "    <tr>\n",
       "      <td>15</td>\n",
       "      <td>1.079300</td>\n",
       "    </tr>\n",
       "    <tr>\n",
       "      <td>16</td>\n",
       "      <td>1.110000</td>\n",
       "    </tr>\n",
       "    <tr>\n",
       "      <td>17</td>\n",
       "      <td>1.119900</td>\n",
       "    </tr>\n",
       "    <tr>\n",
       "      <td>18</td>\n",
       "      <td>0.984200</td>\n",
       "    </tr>\n",
       "    <tr>\n",
       "      <td>19</td>\n",
       "      <td>1.033500</td>\n",
       "    </tr>\n",
       "    <tr>\n",
       "      <td>20</td>\n",
       "      <td>0.993200</td>\n",
       "    </tr>\n",
       "    <tr>\n",
       "      <td>21</td>\n",
       "      <td>1.038500</td>\n",
       "    </tr>\n",
       "    <tr>\n",
       "      <td>22</td>\n",
       "      <td>0.965900</td>\n",
       "    </tr>\n",
       "    <tr>\n",
       "      <td>23</td>\n",
       "      <td>0.988800</td>\n",
       "    </tr>\n",
       "    <tr>\n",
       "      <td>24</td>\n",
       "      <td>1.150100</td>\n",
       "    </tr>\n",
       "    <tr>\n",
       "      <td>25</td>\n",
       "      <td>1.005300</td>\n",
       "    </tr>\n",
       "    <tr>\n",
       "      <td>26</td>\n",
       "      <td>0.986800</td>\n",
       "    </tr>\n",
       "    <tr>\n",
       "      <td>27</td>\n",
       "      <td>1.051300</td>\n",
       "    </tr>\n",
       "    <tr>\n",
       "      <td>28</td>\n",
       "      <td>0.955300</td>\n",
       "    </tr>\n",
       "    <tr>\n",
       "      <td>29</td>\n",
       "      <td>1.088700</td>\n",
       "    </tr>\n",
       "    <tr>\n",
       "      <td>30</td>\n",
       "      <td>0.912300</td>\n",
       "    </tr>\n",
       "  </tbody>\n",
       "</table><p>"
      ],
      "text/plain": [
       "<IPython.core.display.HTML object>"
      ]
     },
     "metadata": {},
     "output_type": "display_data"
    }
   ],
   "source": [
    "trainer_stats = trainer.train()"
   ]
  },
  {
   "cell_type": "markdown",
   "id": "3e56cca2",
   "metadata": {},
   "source": [
    "## 模型保存\n",
    "注意修改路径，保存为符合HF规范的文件夹"
   ]
  },
  {
   "cell_type": "code",
   "execution_count": 17,
   "id": "061c3784",
   "metadata": {},
   "outputs": [
    {
     "data": {
      "text/plain": [
       "('C:/Users/23756/demo/Qwen3-4b-v0.3\\\\tokenizer_config.json',\n",
       " 'C:/Users/23756/demo/Qwen3-4b-v0.3\\\\special_tokens_map.json',\n",
       " 'C:/Users/23756/demo/Qwen3-4b-v0.3\\\\chat_template.jinja',\n",
       " 'C:/Users/23756/demo/Qwen3-4b-v0.3\\\\vocab.json',\n",
       " 'C:/Users/23756/demo/Qwen3-4b-v0.3\\\\merges.txt',\n",
       " 'C:/Users/23756/demo/Qwen3-4b-v0.3\\\\added_tokens.json',\n",
       " 'C:/Users/23756/demo/Qwen3-4b-v0.3\\\\tokenizer.json')"
      ]
     },
     "execution_count": 17,
     "metadata": {},
     "output_type": "execute_result"
    }
   ],
   "source": [
    "# 保存 LoRA adapter 权重\n",
    "model.save_pretrained(LORA_SAVE_PATH)\n",
    "\n",
    "# 保存 tokenizer（可以跳过，如果没有改动过）\n",
    "tokenizer.save_pretrained(LORA_SAVE_PATH)"
   ]
  },
  {
   "cell_type": "code",
   "execution_count": 18,
   "id": "1bd1f278",
   "metadata": {},
   "outputs": [
    {
     "name": "stderr",
     "output_type": "stream",
     "text": [
      "Loading checkpoint shards: 100%|██████████| 3/3 [00:12<00:00,  4.30s/it]\n"
     ]
    },
    {
     "name": "stdout",
     "output_type": "stream",
     "text": [
      "Loading LoRA adapter...\n",
      "Merging LoRA weights into the base model...\n",
      "Saving merged model to C:/Users/23756/demo/merged-Qwen3-4b-v0.3 ...\n"
     ]
    },
    {
     "data": {
      "text/plain": [
       "('C:/Users/23756/demo/merged-Qwen3-4b-v0.3\\\\tokenizer_config.json',\n",
       " 'C:/Users/23756/demo/merged-Qwen3-4b-v0.3\\\\special_tokens_map.json',\n",
       " 'C:/Users/23756/demo/merged-Qwen3-4b-v0.3\\\\chat_template.jinja',\n",
       " 'C:/Users/23756/demo/merged-Qwen3-4b-v0.3\\\\vocab.json',\n",
       " 'C:/Users/23756/demo/merged-Qwen3-4b-v0.3\\\\merges.txt',\n",
       " 'C:/Users/23756/demo/merged-Qwen3-4b-v0.3\\\\added_tokens.json',\n",
       " 'C:/Users/23756/demo/merged-Qwen3-4b-v0.3\\\\tokenizer.json')"
      ]
     },
     "execution_count": 18,
     "metadata": {},
     "output_type": "execute_result"
    }
   ],
   "source": [
    "from peft import PeftModel\n",
    "from transformers import AutoModelForCausalLM, AutoTokenizer\n",
    "\n",
    "\n",
    "base_model_path = BASE_MODEL_PATH\n",
    "lora_model_path = LORA_SAVE_PATH  # 你训练后保存的路径\n",
    "merged_model_path = MERGED_MODEL_PATH  # 合并后保存路径\n",
    "device = \"cuda\" if torch.cuda.is_available() else \"cpu\"\n",
    "base_model = AutoModelForCausalLM.from_pretrained(\n",
    "    base_model_path,\n",
    "    torch_dtype=torch.float16,       # 根据实际显存可选 float16/float32\n",
    "    low_cpu_mem_usage=True\n",
    ").to(device)\n",
    "\n",
    "tokenizer = AutoTokenizer.from_pretrained(base_model_path)\n",
    "\n",
    "# 2. 从 LoRA adapter 加载增量权重\n",
    "print(\"Loading LoRA adapter...\")\n",
    "peft_model = PeftModel.from_pretrained(\n",
    "    base_model,\n",
    "    lora_model_path,\n",
    "    torch_dtype=torch.float16\n",
    ")\n",
    "\n",
    "# 3. 合并 LoRA 到基础模型\n",
    "print(\"Merging LoRA weights into the base model...\")\n",
    "merged_model = peft_model.merge_and_unload()\n",
    "\n",
    "# 4. 保存合并后的模型和分词器\n",
    "print(f\"Saving merged model to {merged_model_path} ...\")\n",
    "merged_model.save_pretrained(merged_model_path)\n",
    "tokenizer.save_pretrained(merged_model_path)"
   ]
  },
  {
   "cell_type": "markdown",
   "id": "85200630",
   "metadata": {},
   "source": [
    "## 模型量化\n",
    "将HF格式的模型转换为GGUF格式的模型，便于vllm或ollama部署"
   ]
  },
  {
   "cell_type": "markdown",
   "id": "54cd592e",
   "metadata": {},
   "source": [
    "执行命令将合并后HF模型转换为bin文件  \n",
    "cd llama.cpp  \n",
    "python convert_hf_to_gguf.py 你的合并模型路径 --outtype f16 --outfile bin文件路径  \n",
    "  \n",
    "再将bin文件量化为gguf文件(参数自选)  \n",
    "f16相当于没量化，如果后续基模型用未量化的则可在服务器微调后选则q4_k等量化后在主机部署  \n",
    "llama-quantize 输入bin文件 输出gguf文件 量化类型  \n",
    "  \n",
    "在根目录下输入以下指令以将你的模型导入ollama中  \n",
    "ollama create 你的模型名称"
   ]
  },
  {
   "cell_type": "markdown",
   "id": "960ef0ed",
   "metadata": {},
   "source": [
    "## 对HF格式的模型进行简单测试"
   ]
  },
  {
   "cell_type": "code",
   "execution_count": 8,
   "id": "e4ffe0d8",
   "metadata": {},
   "outputs": [
    {
     "name": "stdout",
     "output_type": "stream",
     "text": [
      "{'model': 'mymodel_v0.3:latest', 'created_at': '2025-06-28T15:11:12.2114899Z', 'response': '<think>\\n\\n</think>\\n\\n我理解您对我的能力感兴趣。作为一款大型语言模型，我可以进行深度推理和复杂的逻辑分析，但我不具备自主的意识或情感。我的功能主要基于算法和数据分析，能够理解和生成自然语言文本、回答问题、创作内容等。\\n\\n如果您有任何具体的问题或需要帮助的地方，请随时告诉我！', 'done': True, 'done_reason': 'stop', 'context': [151644, 8948, 319, 56568, 101909, 15469, 110498, 151645, 319, 151644, 872, 319, 108386, 3837, 56568, 18830, 102141, 63314, 101037, 151645, 319, 151644, 77091, 319, 151667, 271, 151668, 271, 35946, 101128, 87026, 32664, 97611, 99788, 103198, 1773, 100622, 104794, 101951, 102064, 104949, 3837, 109944, 71817, 102217, 113272, 33108, 106888, 104913, 101042, 3837, 77288, 101553, 102094, 100842, 9370, 100708, 57191, 104934, 1773, 97611, 98380, 99558, 104210, 107018, 33108, 111540, 3837, 100006, 115167, 43959, 99795, 102064, 108704, 5373, 102104, 86119, 5373, 104223, 43815, 49567, 3407, 106870, 110117, 100398, 103936, 57191, 85106, 100364, 103958, 37945, 102422, 106525, 6313], 'total_duration': 6386414100, 'load_duration': 55234300, 'prompt_eval_count': 24, 'prompt_eval_duration': 257509200, 'eval_count': 71, 'eval_duration': 6073164600}\n",
      "<think>\n",
      "\n",
      "</think>\n",
      "\n",
      "我理解您对我的能力感兴趣。作为一款大型语言模型，我可以进行深度推理和复杂的逻辑分析，但我不具备自主的意识或情感。我的功能主要基于算法和数据分析，能够理解和生成自然语言文本、回答问题、创作内容等。\n",
      "\n",
      "如果您有任何具体的问题或需要帮助的地方，请随时告诉我！\n"
     ]
    }
   ],
   "source": [
    "import requests\n",
    "url = \"http://localhost:11434/api/generate\"\n",
    "system_prompt = (\n",
    "    \"你是一个AI助手\"\n",
    ")\n",
    "user_input = (\n",
    "    \"你好，你有思维链吗\"\n",
    ")\n",
    "payload = {\n",
    "    \"model\": \"mymodel_v0.3:latest\",  # 或者你在 Ollama 中导入时设置的模型名\n",
    "    \"system\": system_prompt,\n",
    "    \"prompt\": user_input,\n",
    "    \"stream\": False,\n",
    "    \"thinking\": True,  # 如果不需要思考过程，可以设置为 False\n",
    "}\n",
    "# 发送请求\n",
    "response = requests.post(url, json=payload)\n",
    "print(response.json())\n",
    "text = response.json()[\"response\"]\n",
    "print(text)"
   ]
  }
 ],
 "metadata": {
  "kernelspec": {
   "display_name": "unsloth",
   "language": "python",
   "name": "python3"
  },
  "language_info": {
   "codemirror_mode": {
    "name": "ipython",
    "version": 3
   },
   "file_extension": ".py",
   "mimetype": "text/x-python",
   "name": "python",
   "nbconvert_exporter": "python",
   "pygments_lexer": "ipython3",
   "version": "3.11.4"
  }
 },
 "nbformat": 4,
 "nbformat_minor": 5
}
