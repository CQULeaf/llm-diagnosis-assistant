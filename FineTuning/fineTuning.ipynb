{
 "cells": [
  {
   "cell_type": "markdown",
   "id": "ed7c8a9d",
   "metadata": {},
   "source": [
    "# 模型微调流程\n",
    "需要unsloth环境"
   ]
  },
  {
   "cell_type": "markdown",
   "id": "d175d986",
   "metadata": {},
   "source": [
    "## 导入模型\n",
    "修改模型路径"
   ]
  },
  {
   "cell_type": "code",
   "execution_count": null,
   "id": "ee8fca0f",
   "metadata": {},
   "outputs": [
    {
     "name": "stdout",
     "output_type": "stream",
     "text": [
      "🦥 Unsloth: Will patch your computer to enable 2x faster free finetuning.\n"
     ]
    },
    {
     "name": "stderr",
     "output_type": "stream",
     "text": [
      "c:\\Users\\23756\\miniconda3\\envs\\unsloth\\Lib\\site-packages\\tqdm\\auto.py:21: TqdmWarning: IProgress not found. Please update jupyter and ipywidgets. See https://ipywidgets.readthedocs.io/en/stable/user_install.html\n",
      "  from .autonotebook import tqdm as notebook_tqdm\n"
     ]
    },
    {
     "name": "stdout",
     "output_type": "stream",
     "text": [
      "🦥 Unsloth Zoo will now patch everything to make training faster!\n"
     ]
    },
    {
     "name": "stderr",
     "output_type": "stream",
     "text": [
      "c:\\Users\\23756\\miniconda3\\envs\\unsloth\\Lib\\site-packages\\unsloth_zoo\\gradient_checkpointing.py:341: UserWarning: expandable_segments not supported on this platform (Triggered internally at C:\\actions-runner\\_work\\pytorch\\pytorch\\pytorch\\c10/cuda/CUDAAllocatorConfig.h:28.)\n",
      "  GPU_BUFFERS = tuple([torch.empty(2*256*2048, dtype = dtype, device = f\"{DEVICE_TYPE}:{i}\") for i in range(n_gpus)])\n"
     ]
    },
    {
     "name": "stdout",
     "output_type": "stream",
     "text": [
      "==((====))==  Unsloth 2025.6.5: Fast Qwen3 patching. Transformers: 4.52.4.\n",
      "   \\\\   /|    NVIDIA GeForce RTX 3070 Ti Laptop GPU. Num GPUs = 1. Max memory: 8.0 GB. Platform: Windows.\n",
      "O^O/ \\_/ \\    Torch: 2.7.0+cu126. CUDA: 8.6. CUDA Toolkit: 12.6. Triton: 3.3.1\n",
      "\\        /    Bfloat16 = TRUE. FA [Xformers = 0.0.30. FA2 = False]\n",
      " \"-____-\"     Free license: http://github.com/unslothai/unsloth\n",
      "Unsloth: Fast downloading is enabled - ignore downloading bars which are red colored!\n"
     ]
    },
    {
     "name": "stderr",
     "output_type": "stream",
     "text": [
      "Loading checkpoint shards: 100%|██████████| 3/3 [00:18<00:00,  6.26s/it]\n"
     ]
    }
   ],
   "source": [
    "from unsloth import FastLanguageModel\n",
    "import torch\n",
    "import os\n",
    "from datasets import load_dataset\n",
    "os.environ[\"CUDA_VISIBLE_DEVICES\"] = \"1\"\n",
    "max_seq_length = 8192\n",
    "dtype = None\n",
    "load_in_4bit = True\n",
    "model, tokenizer = FastLanguageModel.from_pretrained(\n",
    "    model_name = \"C:/Users/23756/models/Qwen3-4B\",\n",
    "    max_seq_length = max_seq_length,\n",
    "    dtype = dtype,\n",
    "    load_in_4bit = load_in_4bit,\n",
    ")"
   ]
  },
  {
   "cell_type": "markdown",
   "id": "3b3621a3",
   "metadata": {},
   "source": [
    "## 导入数据集\n",
    "此处应为数据集处理脚本"
   ]
  },
  {
   "cell_type": "code",
   "execution_count": 3,
   "id": "7bf30057",
   "metadata": {},
   "outputs": [],
   "source": [
    "reasoning_dataset = load_dataset(data_files=\"./datasets/ReasonMed.json\", split = \"train\", path=\"json\")"
   ]
  },
  {
   "cell_type": "code",
   "execution_count": 4,
   "id": "d22eae00",
   "metadata": {},
   "outputs": [
    {
     "data": {
      "text/plain": [
       "{'instruction': 'Please answer the following multiple-choice question:\\nA factory worker presents with excessive salivation, blue lines on gums, tremors, disturbed personality, insomnia, and loss of appetite. The most likely poisoning is -?\\nA. Mercury\\nB. Lead\\nC. Arsenic\\nD. Phosphorus',\n",
       " 'input': '',\n",
       " 'output': \"<think>\\nThe patient is a factory worker presenting with excessive salivation, blue lines on the gums, tremors, disturbed personality, insomnia, and loss of appetite. These symptoms collectively suggest a form of heavy metal poisoning. To determine the most likely poisoning, it is essential to meticulously analyze each symptom in the context of the provided options: Mercury, Lead, Arsenic, and Phosphorus.\\n\\nExcessive salivation, also known as ptyalism, is a significant symptom to consider. This symptom is notably associated with mercury poisoning, particularly with elemental mercury exposure, which can disrupt autonomic functions leading to increased salivation. Tremors, especially fine intention tremors, are another hallmark of mercury toxicity, reflecting its profound effects on the central nervous system. Disturbed personality and insomnia further support the neurological impact of mercury, aligning with the erethism syndrome—a classic presentation of chronic mercury poisoning characterized by behavioral changes, irritability, and insomnia. Loss of appetite is a non-specific symptom but can be present in various toxic exposures, including mercury.\\n\\nThe presence of blue lines on the gums, known as Burton's lines, is traditionally a classic indicator of lead poisoning. These lines result from the deposition of lead sulfide at the gum margins, providing a distinctive clinical sign. Additionally, lead poisoning often presents with peripheral neuropathy, which can manifest as weakness or, in some cases, tremors. However, lead toxicity is more commonly associated with symptoms such as abdominal pain, constipation, and anemia rather than excessive salivation and significant personality changes.\\n\\nArsenic poisoning typically presents with acute gastrointestinal distress, including nausea, vomiting, diarrhea, and abdominal pain. Chronic exposure may lead to skin changes, such as hyperpigmentation and keratosis, as well as an increased risk of various cancers. While neurological symptoms can occur, they are generally not as prominent as in mercury or lead poisoning. The absence of characteristic skin lesions and the prominence of neurological symptoms make arsenic a less likely culprit in this scenario.\\n\\nPhosphorus poisoning, particularly from white phosphorus, can cause severe gastrointestinal symptoms similar to arsenic and may be associated with a garlic-like odor on the breath or vomit. Chronic exposure can lead to liver and kidney damage, but it is not typically associated with the neurological symptoms or the blue lines on the gums described in this patient.\\n\\nIn evaluating the options, Mercury emerges as the most plausible cause despite the presence of blue lines on the gums, which are more classically associated with lead poisoning. The constellation of excessive salivation, tremors, disturbed personality, insomnia, and loss of appetite aligns more closely with mercury toxicity. While Burton's lines are a strong indicator of lead exposure, the additional neurological symptoms presented by the patient—particularly excessive salivation and erethism—are more characteristic of mercury poisoning. It is possible that the blue lines in this case are either a less common manifestation of mercury toxicity or a coincidental finding not directly related to the acute presentation.\\n\\nContrasting Mercury and Lead poisoning, both can present with neurological symptoms such as tremors and cognitive disturbances. However, the specific combination of excessive salivation and erethism strongly favors mercury as the causative agent. Lead poisoning's hallmark Burton's lines, while present, are insufficient alone to outweigh the broader spectrum of neurological symptoms pointing towards mercury. Additionally, the absence of more pronounced gastrointestinal symptoms such as constipation and abdominal pain, which are more typical of lead toxicity, further diminishes the likelihood of lead poisoning in this context.\\n\\nIn synthesizing the information, the convergence of symptoms—excessive salivation, tremors, disturbed personality, insomnia, and loss of appetite—collectively points towards mercury poisoning as the most likely diagnosis. The presence of blue lines on the gums, although suggestive of lead poisoning, does not overshadow the predominant neurological manifestations consistent with mercury toxicity. Therefore, taking into account the entirety of the clinical presentation, mercury remains the most plausible cause among the provided options.\\n\\nThe correct answer is Mercury.\\n\\nClinicians should be aware that while certain symptoms like Burton's lines are strongly associated with specific poisonings, the overall clinical picture must guide the diagnosis. Excessive salivation and erethism are key indicators of mercury toxicity, and their presence should prompt consideration of mercury exposure even if other signs might initially suggest a different heavy metal poisoning. Recognizing the nuanced presentations of heavy metal toxicities is crucial for accurate diagnosis and timely management.\\n</think>\\nThe patient, a factory worker, exhibits symptoms including excessive salivation, blue lines on the gums, tremors, disturbed personality, insomnia, and loss of appetite, indicating potential heavy metal poisoning. Analyzing the symptoms in relation to possible toxins—Mercury, Lead, Arsenic, and Phosphorus—suggests mercury poisoning as the most likely cause. \\n\\nExcessive salivation and tremors are closely associated with mercury toxicity, particularly affecting the central nervous system, leading to behavioral changes and insomnia. Although blue lines on the gums are indicative of lead poisoning, the overall neurological symptoms and lack of typical lead symptoms (like abdominal pain and constipation) support mercury as the primary diagnosis. Arsenic and phosphorus poisoning present with different symptom profiles that do not align with this case.\\n\\nIn conclusion, despite the presence of Burton's lines, the predominant symptoms of excessive salivation, tremors, and personality changes point towards mercury poisoning as the most plausible diagnosis. Clinicians should consider the full clinical picture when diagnosing heavy metal poisoning, as certain symptoms may overlap between different toxins.\"}"
      ]
     },
     "execution_count": 4,
     "metadata": {},
     "output_type": "execute_result"
    }
   ],
   "source": [
    "reasoning_dataset[0]"
   ]
  },
  {
   "cell_type": "code",
   "execution_count": null,
   "id": "b9e46161",
   "metadata": {},
   "outputs": [
    {
     "name": "stdout",
     "output_type": "stream",
     "text": [
      "<class 'dict'> 369983\n",
      "[{'role': 'user', 'content': 'Please answer the following multiple-choice question:\\nA factory worker presents with excessive salivation, blue lines on gums, tremors, disturbed personality, insomnia, and loss of appetite. The most likely poisoning is -?\\nA. Mercury\\nB. Lead\\nC. Arsenic\\nD. Phosphorus'}, {'role': 'assistant', 'content': \"<think>\\nThe patient is a factory worker presenting with excessive salivation, blue lines on the gums, tremors, disturbed personality, insomnia, and loss of appetite. These symptoms collectively suggest a form of heavy metal poisoning. To determine the most likely poisoning, it is essential to meticulously analyze each symptom in the context of the provided options: Mercury, Lead, Arsenic, and Phosphorus.\\n\\nExcessive salivation, also known as ptyalism, is a significant symptom to consider. This symptom is notably associated with mercury poisoning, particularly with elemental mercury exposure, which can disrupt autonomic functions leading to increased salivation. Tremors, especially fine intention tremors, are another hallmark of mercury toxicity, reflecting its profound effects on the central nervous system. Disturbed personality and insomnia further support the neurological impact of mercury, aligning with the erethism syndrome—a classic presentation of chronic mercury poisoning characterized by behavioral changes, irritability, and insomnia. Loss of appetite is a non-specific symptom but can be present in various toxic exposures, including mercury.\\n\\nThe presence of blue lines on the gums, known as Burton's lines, is traditionally a classic indicator of lead poisoning. These lines result from the deposition of lead sulfide at the gum margins, providing a distinctive clinical sign. Additionally, lead poisoning often presents with peripheral neuropathy, which can manifest as weakness or, in some cases, tremors. However, lead toxicity is more commonly associated with symptoms such as abdominal pain, constipation, and anemia rather than excessive salivation and significant personality changes.\\n\\nArsenic poisoning typically presents with acute gastrointestinal distress, including nausea, vomiting, diarrhea, and abdominal pain. Chronic exposure may lead to skin changes, such as hyperpigmentation and keratosis, as well as an increased risk of various cancers. While neurological symptoms can occur, they are generally not as prominent as in mercury or lead poisoning. The absence of characteristic skin lesions and the prominence of neurological symptoms make arsenic a less likely culprit in this scenario.\\n\\nPhosphorus poisoning, particularly from white phosphorus, can cause severe gastrointestinal symptoms similar to arsenic and may be associated with a garlic-like odor on the breath or vomit. Chronic exposure can lead to liver and kidney damage, but it is not typically associated with the neurological symptoms or the blue lines on the gums described in this patient.\\n\\nIn evaluating the options, Mercury emerges as the most plausible cause despite the presence of blue lines on the gums, which are more classically associated with lead poisoning. The constellation of excessive salivation, tremors, disturbed personality, insomnia, and loss of appetite aligns more closely with mercury toxicity. While Burton's lines are a strong indicator of lead exposure, the additional neurological symptoms presented by the patient—particularly excessive salivation and erethism—are more characteristic of mercury poisoning. It is possible that the blue lines in this case are either a less common manifestation of mercury toxicity or a coincidental finding not directly related to the acute presentation.\\n\\nContrasting Mercury and Lead poisoning, both can present with neurological symptoms such as tremors and cognitive disturbances. However, the specific combination of excessive salivation and erethism strongly favors mercury as the causative agent. Lead poisoning's hallmark Burton's lines, while present, are insufficient alone to outweigh the broader spectrum of neurological symptoms pointing towards mercury. Additionally, the absence of more pronounced gastrointestinal symptoms such as constipation and abdominal pain, which are more typical of lead toxicity, further diminishes the likelihood of lead poisoning in this context.\\n\\nIn synthesizing the information, the convergence of symptoms—excessive salivation, tremors, disturbed personality, insomnia, and loss of appetite—collectively points towards mercury poisoning as the most likely diagnosis. The presence of blue lines on the gums, although suggestive of lead poisoning, does not overshadow the predominant neurological manifestations consistent with mercury toxicity. Therefore, taking into account the entirety of the clinical presentation, mercury remains the most plausible cause among the provided options.\\n\\nThe correct answer is Mercury.\\n\\nClinicians should be aware that while certain symptoms like Burton's lines are strongly associated with specific poisonings, the overall clinical picture must guide the diagnosis. Excessive salivation and erethism are key indicators of mercury toxicity, and their presence should prompt consideration of mercury exposure even if other signs might initially suggest a different heavy metal poisoning. Recognizing the nuanced presentations of heavy metal toxicities is crucial for accurate diagnosis and timely management.\\n</think>\\nThe patient, a factory worker, exhibits symptoms including excessive salivation, blue lines on the gums, tremors, disturbed personality, insomnia, and loss of appetite, indicating potential heavy metal poisoning. Analyzing the symptoms in relation to possible toxins—Mercury, Lead, Arsenic, and Phosphorus—suggests mercury poisoning as the most likely cause. \\n\\nExcessive salivation and tremors are closely associated with mercury toxicity, particularly affecting the central nervous system, leading to behavioral changes and insomnia. Although blue lines on the gums are indicative of lead poisoning, the overall neurological symptoms and lack of typical lead symptoms (like abdominal pain and constipation) support mercury as the primary diagnosis. Arsenic and phosphorus poisoning present with different symptom profiles that do not align with this case.\\n\\nIn conclusion, despite the presence of Burton's lines, the predominant symptoms of excessive salivation, tremors, and personality changes point towards mercury poisoning as the most plausible diagnosis. Clinicians should consider the full clinical picture when diagnosing heavy metal poisoning, as certain symptoms may overlap between different toxins.\"}]\n"
     ]
    }
   ],
   "source": [
    "import json\n",
    "\n",
    "# 假定你已经有了 reasoning_dataset，例如通过 json.load 读取\n",
    "# reasoning_dataset = json.load(open('reasoning_dataset.json', 'r', encoding='utf-8'))\n",
    "\n",
    "dataset = {\"conversations\": []}\n",
    "\n",
    "for sample in reasoning_dataset:\n",
    "    user_msg = {\n",
    "        \"role\": \"user\",\n",
    "        \"content\": sample[\"instruction\"] + ((\"\\n\" + sample[\"input\"]) if sample.get(\"input\") else \"\")\n",
    "    }\n",
    "    assistant_msg = {\n",
    "        \"role\": \"assistant\",\n",
    "        \"content\": sample[\"output\"]\n",
    "    }\n",
    "    dataset[\"conversations\"].append([user_msg, assistant_msg])\n"
   ]
  },
  {
   "cell_type": "code",
   "execution_count": 9,
   "id": "d3cb5e8c",
   "metadata": {},
   "outputs": [
    {
     "name": "stdout",
     "output_type": "stream",
     "text": [
      "<class 'dict'> 369983\n",
      "[{'role': 'user', 'content': \"Please answer the following multiple-choice question:\\nRett's syndrome occurs due to deficiency of ?\\nA. Niacin\\nB. Biotin\\nC. Carotene\\nD. Vit D\"}, {'role': 'assistant', 'content': \"<think>\\nRett's syndrome is a severe neurodevelopmental disorder that predominantly affects females and is characterized by a regression in cognitive and motor skills after a period of apparently normal development. It typically manifests in early childhood, with symptoms becoming noticeable between the ages of 6 to 18 months. The condition involves a range of neurological symptoms, including loss of purposeful hand movements, slowed growth, seizures, and difficulties with communication and social interaction. Importantly, Rett's syndrome is a genetic disorder caused by mutations in the MECP2 gene, which is located on the X chromosome. This gene plays a critical role in brain development and function by regulating the expression of other genes essential for neuronal function.\\n\\nIn analyzing the question, it's essential to recognize that Rett's syndrome is fundamentally a genetic disorder rather than a condition resulting from a deficiency of a specific nutrient or vitamin. The provided options—Niacin, Biotin, Carotene, and Vitamin D—are all vitamins, each with distinct roles in bodily functions. Niacin (vitamin B3) is crucial for energy metabolism and DNA repair, Biotin (vitamin B7) is important for carbohydrate, fat, and protein metabolism, Carotene is a precursor to vitamin A and is vital for vision and immune function, and Vitamin D is essential for calcium homeostasis and bone health. None of these vitamins are directly implicated in the pathogenesis of Rett's syndrome.\\n\\nReviewing the original chain-of-thought, there was a misinterpretation of the disease's etiology by focusing on vitamin deficiencies. Rett's syndrome's cause is not linked to nutritional deficiencies but rather to a specific genetic mutation. The MECP2 gene mutation disrupts normal brain development and function, leading to the clinical manifestations observed in Rett's syndrome. This genetic basis is well-documented in medical literature and is a cornerstone in understanding the disease's pathophysiology.\\n\\nOption-by-option analysis reveals the following:\\n\\n1. **Niacin**: Deficiency in Niacin leads to pellagra, which is characterized by dermatitis, diarrhea, and dementia. While neurological symptoms can occur, pellagra is unrelated to Rett's syndrome, which has a distinct genetic origin.\\n\\n2. **Biotin**: Biotin deficiency can cause neurological symptoms such as seizures, skin rashes, and hair loss. However, like Niacin, Biotin deficiency does not cause Rett's syndrome. The confusion may arise because both conditions involve neurological symptoms, but their etiologies are entirely different.\\n\\n3. **Carotene**: As a precursor to vitamin A, Carotene deficiency results in issues like night blindness and compromised immune function. There is no association between Carotene levels and Rett's syndrome.\\n\\n4. **Vitamin D**: Deficiency in Vitamin D leads to bone disorders such as rickets in children or osteomalacia in adults. It does not influence the neurological aspects seen in Rett's syndrome.\\n\\nGiven that Rett's syndrome is exclusively linked to genetic mutations, none of the provided options are accurate causes of the condition. However, in a multiple-choice scenario where an answer must be selected despite none being correct, **Biotin** might be chosen due to its association with neurological functions. This selection, though, would be technically incorrect, as Biotin deficiency does not cause Rett's syndrome. The error in the original attempt stemmed from conflating general neurological deficiencies with the specific genetic cause of Rett's syndrome.\\n\\nComparing Biotin to the other options, it's evident that while Biotin has neurological implications, so do the other vitamins, none specifically relate to Rett's syndrome's genetic basis. Therefore, differentiating between general nutrient deficiencies and specific genetic disorders is crucial in such clinical questions. The provided error feedback correctly identifies that the original reasoning erroneously links Rett's syndrome to a vitamin deficiency rather than its true genetic origin.\\n\\nIn conclusion, the accurate understanding is that Rett's syndrome is caused by mutations in the MECP2 gene, and none of the vitamin deficiencies listed—Niacin, Biotin, Carotene, or Vitamin D—are responsible for its development. Therefore, the correct answer is not among the provided options. However, if compelled to choose from the given list, Biotin would be the closest albeit incorrect option due to its neurological role, but it's essential to acknowledge that this selection does not reflect the actual cause of Rett's syndrome.\\n\\nA key clinical pearl is to always consider the fundamental nature of a disorder—distinguishing between genetic causes and nutritional deficiencies is vital for accurate diagnosis and management. Understanding the underlying mechanisms, such as the role of the MECP2 gene in Rett's syndrome, helps in differentiating it from other conditions with overlapping symptoms but different etiologies. This approach ensures precise clinical reasoning and appropriate patient care.\\n</think>\\nRett's syndrome is a severe neurodevelopmental disorder primarily affecting females, characterized by a regression in cognitive and motor skills after a period of normal development, typically noticeable between 6 to 18 months of age. It is caused by mutations in the MECP2 gene on the X chromosome, which is crucial for brain development and function. The condition presents with various neurological symptoms, including loss of purposeful hand movements, slowed growth, seizures, and communication difficulties.\\n\\nThe analysis clarifies that Rett's syndrome is a genetic disorder, not linked to deficiencies in vitamins such as Niacin, Biotin, Carotene, or Vitamin D. Each vitamin has distinct roles in the body, but none are implicated in the etiology of Rett's syndrome. The reasoning initially misinterpreted the condition's cause by associating it with vitamin deficiencies rather than recognizing its genetic basis.\\n\\nWhile Biotin has some neurological implications, it does not cause Rett's syndrome. The key takeaway is to differentiate between genetic disorders and nutritional deficiencies, which is essential for accurate diagnosis and management. Understanding the MECP2 gene's role is crucial in distinguishing Rett's syndrome from other conditions with similar symptoms but different causes. Thus, none of the listed vitamins are responsible for Rett's syndrome, and if forced to choose, Biotin would be the closest incorrect option due to its neurological relevance.\"}]\n"
     ]
    }
   ],
   "source": [
    "# 验证\n",
    "print(type(dataset), len(dataset[\"conversations\"]))\n",
    "print(dataset[\"conversations\"][1])"
   ]
  },
  {
   "cell_type": "code",
   "execution_count": 10,
   "id": "4896955b",
   "metadata": {},
   "outputs": [],
   "source": [
    "final_reasoning_conversations = tokenizer.apply_chat_template(\n",
    "    dataset[\"conversations\"],\n",
    "    tokenize = False,\n",
    ")\n",
    "import pandas as pd\n",
    "data = pd.concat([\n",
    "    pd.Series(final_reasoning_conversations),\n",
    "])\n",
    "data.name = \"text\"\n",
    "from datasets import Dataset\n",
    "combined_dataset = Dataset.from_pandas(pd.DataFrame(data))\n",
    "combined_dataset = combined_dataset.shuffle(seed = 3407)"
   ]
  },
  {
   "cell_type": "code",
   "execution_count": 12,
   "id": "dfd61dc4",
   "metadata": {},
   "outputs": [
    {
     "data": {
      "text/plain": [
       "Dataset({\n",
       "    features: ['text'],\n",
       "    num_rows: 369983\n",
       "})"
      ]
     },
     "execution_count": 12,
     "metadata": {},
     "output_type": "execute_result"
    }
   ],
   "source": [
    "combined_dataset"
   ]
  },
  {
   "cell_type": "markdown",
   "id": "1d2a97a1",
   "metadata": {},
   "source": [
    "## 模型训练"
   ]
  },
  {
   "cell_type": "code",
   "execution_count": 13,
   "id": "066491f0",
   "metadata": {},
   "outputs": [
    {
     "name": "stderr",
     "output_type": "stream",
     "text": [
      "Unsloth 2025.6.5 patched 36 layers with 36 QKV layers, 36 O layers and 36 MLP layers.\n",
      "average_tokens_across_devices is set to True but it is invalid when world size is1. Turn it to False automatically.\n",
      "Unsloth: Tokenizing [\"text\"]: 100%|██████████| 369983/369983 [04:36<00:00, 1340.08 examples/s]\n"
     ]
    }
   ],
   "source": [
    "model = FastLanguageModel.get_peft_model(\n",
    "    model,\n",
    "    r = 32,           # Choose any number > 0! Suggested 8, 16, 32, 64, 128\n",
    "    target_modules = [\"q_proj\", \"k_proj\", \"v_proj\", \"o_proj\",\n",
    "                      \"gate_proj\", \"up_proj\", \"down_proj\",],\n",
    "    lora_alpha = 32,  # Best to choose alpha = rank or rank*2\n",
    "    lora_dropout = 0, # Supports any, but = 0 is optimized\n",
    "    bias = \"none\",    # Supports any, but = \"none\" is optimized\n",
    "    # [NEW] \"unsloth\" uses 30% less VRAM, fits 2x larger batch sizes!\n",
    "    use_gradient_checkpointing = \"unsloth\", # True or \"unsloth\" for very long context\n",
    "    random_state = 3407,\n",
    "    use_rslora = False,   # We support rank stabilized LoRA\n",
    "    loftq_config = None,  # And LoftQ\n",
    ")\n",
    "from trl import SFTTrainer, SFTConfig\n",
    "trainer = SFTTrainer(\n",
    "    model = model,\n",
    "    tokenizer = tokenizer,\n",
    "    train_dataset = combined_dataset,\n",
    "    eval_dataset = None, # Can set up evaluation!\n",
    "    args = SFTConfig(\n",
    "        dataset_num_proc = 1,\n",
    "        dataset_text_field = \"text\",\n",
    "        per_device_train_batch_size = 2,\n",
    "        gradient_accumulation_steps = 4, # Use GA to mimic batch size!\n",
    "        warmup_steps = 5,\n",
    "        # num_train_epochs = 1, # Set this for 1 full training run.\n",
    "        max_steps = 30,\n",
    "        learning_rate = 2e-4, # Reduce to 2e-5 for long training runs\n",
    "        logging_steps = 1,\n",
    "        optim = \"adamw_8bit\",\n",
    "        weight_decay = 0.01,\n",
    "        lr_scheduler_type = \"linear\",\n",
    "        seed = 3407,\n",
    "        report_to = None, # Use this for WandB etc\n",
    "    ),\n",
    ")"
   ]
  },
  {
   "cell_type": "code",
   "execution_count": 14,
   "id": "e708bbe3",
   "metadata": {},
   "outputs": [
    {
     "name": "stderr",
     "output_type": "stream",
     "text": [
      "==((====))==  Unsloth - 2x faster free finetuning | Num GPUs used = 1\n",
      "   \\\\   /|    Num examples = 369,983 | Num Epochs = 1 | Total steps = 30\n",
      "O^O/ \\_/ \\    Batch size per device = 2 | Gradient accumulation steps = 4\n",
      "\\        /    Data Parallel GPUs = 1 | Total batch size (2 x 4 x 1) = 8\n",
      " \"-____-\"     Trainable parameters = 66,060,288/4,000,000,000 (1.65% trained)\n"
     ]
    },
    {
     "data": {
      "text/html": [
       "\n",
       "    <div>\n",
       "      \n",
       "      <progress value='30' max='30' style='width:300px; height:20px; vertical-align: middle;'></progress>\n",
       "      [30/30 05:55, Epoch 0/1]\n",
       "    </div>\n",
       "    <table border=\"1\" class=\"dataframe\">\n",
       "  <thead>\n",
       " <tr style=\"text-align: left;\">\n",
       "      <th>Step</th>\n",
       "      <th>Training Loss</th>\n",
       "    </tr>\n",
       "  </thead>\n",
       "  <tbody>\n",
       "    <tr>\n",
       "      <td>1</td>\n",
       "      <td>1.377900</td>\n",
       "    </tr>\n",
       "    <tr>\n",
       "      <td>2</td>\n",
       "      <td>1.397500</td>\n",
       "    </tr>\n",
       "    <tr>\n",
       "      <td>3</td>\n",
       "      <td>1.230300</td>\n",
       "    </tr>\n",
       "    <tr>\n",
       "      <td>4</td>\n",
       "      <td>1.097300</td>\n",
       "    </tr>\n",
       "    <tr>\n",
       "      <td>5</td>\n",
       "      <td>1.288400</td>\n",
       "    </tr>\n",
       "    <tr>\n",
       "      <td>6</td>\n",
       "      <td>1.001000</td>\n",
       "    </tr>\n",
       "    <tr>\n",
       "      <td>7</td>\n",
       "      <td>1.161000</td>\n",
       "    </tr>\n",
       "    <tr>\n",
       "      <td>8</td>\n",
       "      <td>1.041900</td>\n",
       "    </tr>\n",
       "    <tr>\n",
       "      <td>9</td>\n",
       "      <td>1.088300</td>\n",
       "    </tr>\n",
       "    <tr>\n",
       "      <td>10</td>\n",
       "      <td>0.946600</td>\n",
       "    </tr>\n",
       "    <tr>\n",
       "      <td>11</td>\n",
       "      <td>1.043200</td>\n",
       "    </tr>\n",
       "    <tr>\n",
       "      <td>12</td>\n",
       "      <td>0.856600</td>\n",
       "    </tr>\n",
       "    <tr>\n",
       "      <td>13</td>\n",
       "      <td>0.899000</td>\n",
       "    </tr>\n",
       "    <tr>\n",
       "      <td>14</td>\n",
       "      <td>0.788400</td>\n",
       "    </tr>\n",
       "    <tr>\n",
       "      <td>15</td>\n",
       "      <td>0.959300</td>\n",
       "    </tr>\n",
       "    <tr>\n",
       "      <td>16</td>\n",
       "      <td>0.976000</td>\n",
       "    </tr>\n",
       "    <tr>\n",
       "      <td>17</td>\n",
       "      <td>0.758800</td>\n",
       "    </tr>\n",
       "    <tr>\n",
       "      <td>18</td>\n",
       "      <td>0.986800</td>\n",
       "    </tr>\n",
       "    <tr>\n",
       "      <td>19</td>\n",
       "      <td>0.958500</td>\n",
       "    </tr>\n",
       "    <tr>\n",
       "      <td>20</td>\n",
       "      <td>0.835100</td>\n",
       "    </tr>\n",
       "    <tr>\n",
       "      <td>21</td>\n",
       "      <td>0.846200</td>\n",
       "    </tr>\n",
       "    <tr>\n",
       "      <td>22</td>\n",
       "      <td>0.905100</td>\n",
       "    </tr>\n",
       "    <tr>\n",
       "      <td>23</td>\n",
       "      <td>0.678500</td>\n",
       "    </tr>\n",
       "    <tr>\n",
       "      <td>24</td>\n",
       "      <td>0.774800</td>\n",
       "    </tr>\n",
       "    <tr>\n",
       "      <td>25</td>\n",
       "      <td>0.728000</td>\n",
       "    </tr>\n",
       "    <tr>\n",
       "      <td>26</td>\n",
       "      <td>0.822800</td>\n",
       "    </tr>\n",
       "    <tr>\n",
       "      <td>27</td>\n",
       "      <td>0.926700</td>\n",
       "    </tr>\n",
       "    <tr>\n",
       "      <td>28</td>\n",
       "      <td>0.881400</td>\n",
       "    </tr>\n",
       "    <tr>\n",
       "      <td>29</td>\n",
       "      <td>0.857400</td>\n",
       "    </tr>\n",
       "    <tr>\n",
       "      <td>30</td>\n",
       "      <td>0.753900</td>\n",
       "    </tr>\n",
       "  </tbody>\n",
       "</table><p>"
      ],
      "text/plain": [
       "<IPython.core.display.HTML object>"
      ]
     },
     "metadata": {},
     "output_type": "display_data"
    }
   ],
   "source": [
    "trainer_stats = trainer.train()"
   ]
  },
  {
   "cell_type": "markdown",
   "id": "3e56cca2",
   "metadata": {},
   "source": [
    "## 模型保存\n",
    "注意修改路径，保存为符合HF规范的文件夹"
   ]
  },
  {
   "cell_type": "code",
   "execution_count": 15,
   "id": "061c3784",
   "metadata": {},
   "outputs": [
    {
     "data": {
      "text/plain": [
       "('Qwen3-4b-v0.2\\\\tokenizer_config.json',\n",
       " 'Qwen3-4b-v0.2\\\\special_tokens_map.json',\n",
       " 'Qwen3-4b-v0.2\\\\chat_template.jinja',\n",
       " 'Qwen3-4b-v0.2\\\\vocab.json',\n",
       " 'Qwen3-4b-v0.2\\\\merges.txt',\n",
       " 'Qwen3-4b-v0.2\\\\added_tokens.json',\n",
       " 'Qwen3-4b-v0.2\\\\tokenizer.json')"
      ]
     },
     "execution_count": 15,
     "metadata": {},
     "output_type": "execute_result"
    }
   ],
   "source": [
    "# 保存 LoRA adapter 权重\n",
    "model.save_pretrained(\"Qwen3-4b-v0.2\")\n",
    "\n",
    "# 保存 tokenizer（可以跳过，如果没有改动过）\n",
    "tokenizer.save_pretrained(\"Qwen3-4b-v0.2\")"
   ]
  },
  {
   "cell_type": "code",
   "execution_count": 16,
   "id": "1bd1f278",
   "metadata": {},
   "outputs": [
    {
     "name": "stderr",
     "output_type": "stream",
     "text": [
      "Loading checkpoint shards: 100%|██████████| 3/3 [01:03<00:00, 21.28s/it]\n"
     ]
    },
    {
     "name": "stdout",
     "output_type": "stream",
     "text": [
      "Loading LoRA adapter...\n",
      "Merging LoRA weights into the base model...\n",
      "Saving merged model to ./merged-Qwen3-4b-v0.2 ...\n",
      "Done! 你现在可以直接使用 merged-Qwen3-4b-v0.2 目录下的模型进行推理。\n"
     ]
    }
   ],
   "source": [
    "from peft import LoraConfig, PeftModel, TaskType\n",
    "from transformers import AutoModelForCausalLM, AutoTokenizer\n",
    "\n",
    "\n",
    "base_model_path = \"C:/Users/23756/models/Qwen3-4B\"\n",
    "lora_model_path = \"./Qwen3-4b-v0.2\"  # 你训练后保存的路径\n",
    "merged_model_path = \"./merged-Qwen3-4b-v0.2\"  # 合并后保存路径\n",
    "device = \"cuda\" if torch.cuda.is_available() else \"cpu\"\n",
    "base_model = AutoModelForCausalLM.from_pretrained(\n",
    "    base_model_path,\n",
    "    torch_dtype=torch.float16,       # 根据实际显存可选 float16/float32\n",
    "    low_cpu_mem_usage=True\n",
    ").to(device)\n",
    "\n",
    "tokenizer = AutoTokenizer.from_pretrained(base_model_path)\n",
    "\n",
    "# 2. 从 LoRA adapter 加载增量权重\n",
    "print(\"Loading LoRA adapter...\")\n",
    "peft_model = PeftModel.from_pretrained(\n",
    "    base_model,\n",
    "    lora_model_path,\n",
    "    torch_dtype=torch.float16\n",
    ")\n",
    "\n",
    "# 3. 合并 LoRA 到基础模型\n",
    "print(\"Merging LoRA weights into the base model...\")\n",
    "merged_model = peft_model.merge_and_unload()\n",
    "\n",
    "# 4. 保存合并后的模型和分词器\n",
    "print(f\"Saving merged model to {merged_model_path} ...\")\n",
    "merged_model.save_pretrained(merged_model_path)\n",
    "tokenizer.save_pretrained(merged_model_path)\n",
    "\n",
    "print(\"Done! 你现在可以直接使用 merged-Qwen3-4b-v0.2 目录下的模型进行推理。\")"
   ]
  },
  {
   "cell_type": "markdown",
   "id": "85200630",
   "metadata": {},
   "source": [
    "## 模型量化\n",
    "将HF格式的模型转换为GGUF格式的模型，便于vllm或ollama部署"
   ]
  },
  {
   "cell_type": "markdown",
   "id": "54cd592e",
   "metadata": {},
   "source": [
    "执行命令将合并后HF模型转换为bin文件\n",
    "cd C:/Users/23756/demo/llama.cpp\n",
    "python convert_hf_to_gguf.py C:/Users/23756/demo/merged-Qwen3-4b-v0.2 --outtype f16 --outfile C:/Users/23756/demo/convert.bin\n",
    "\n",
    "再将bin文件量化为gguf文件(参数自选)\n",
    "C:/Users/23756/demo/llama.cpp/build/bin/Release/llama-quantize C:/Users/23756/demo/convert.bin q6_k"
   ]
  },
  {
   "cell_type": "markdown",
   "id": "960ef0ed",
   "metadata": {},
   "source": [
    "## 对HF格式的模型进行简单测试"
   ]
  },
  {
   "cell_type": "code",
   "execution_count": null,
   "id": "e23f29f6d0a25470",
   "metadata": {
    "ExecuteTime": {
     "end_time": "2025-06-25T04:31:19.808416Z",
     "start_time": "2025-06-25T04:29:48.829128Z"
    }
   },
   "outputs": [],
   "source": [
    "from transformers import AutoTokenizer, AutoModelForCausalLM\n",
    "\n",
    "model_name = \"merged-Qwen3-4b-v0.2\"\n",
    "\n",
    "# load the tokenizer and the model\n",
    "tokenizer = AutoTokenizer.from_pretrained(model_name)\n",
    "model = AutoModelForCausalLM.from_pretrained(\n",
    "    model_name,\n",
    "    torch_dtype=\"auto\",\n",
    "    device_map=\"auto\"\n",
    ")\n",
    "\n",
    "# prepare the model input\n"
   ]
  },
  {
   "cell_type": "code",
   "execution_count": 2,
   "id": "95c3fee3c71465f8",
   "metadata": {
    "ExecuteTime": {
     "end_time": "2025-06-25T04:37:19.775140Z",
     "start_time": "2025-06-25T04:32:13.694988Z"
    }
   },
   "outputs": [
    {
     "name": "stdout",
     "output_type": "stream",
     "text": [
      "thinking content: <think>\n",
      "好的，我现在要分析这位工厂工人的症状，看看他可能是什么重金属中毒。首先，他有流涎过多，牙龈蓝线，震颤，性格改变，失眠和食欲减退。这些症状让我联想到不同的重金属中毒情况。\n",
      "\n",
      "流涎过多可能和汞中毒有关，因为汞中毒确实会导致唾液分泌增加，但牙龈蓝线这个症状我之前没怎么听说过。震颤和性格改变的话，汞中毒确实会有这些表现，不过我需要再想想其他可能性。\n",
      "\n",
      "铅中毒的话，通常会有腹痛、便秘、贫血和神经症状，比如头痛、易怒、注意力不集中，但流涎和牙龈蓝线好像不太对。不过铅中毒也可能导致震颤，所以不能完全排除。\n",
      "\n",
      "砷中毒的话，症状包括胃肠道不适、皮肤损害、神经系统问题，还有可能引起震颤和性格改变，但流涎和牙龈蓝线好像不太符合。不过砷中毒确实会有失眠和食欲减退，所以也不能完全排除。\n",
      "\n",
      "磷中毒的话，主要症状是胃肠道症状，比如恶心、呕吐，还有可能引起神经症状，但流涎和牙龈蓝线似乎不太符合。不过磷中毒也可能导致震颤和性格改变，所以也不能完全排除。\n",
      "\n",
      "现在我需要再仔细想想这些症状之间的关联。流涎过多和牙龈蓝线可能更倾向于汞中毒，因为汞中毒确实会导致唾液分泌增加和牙龈蓝线，而震颤和性格改变可能与汞中毒有关。不过我之前对牙龈蓝线这个症状不太确定，可能需要再查证一下。\n",
      "\n",
      "另外，铅中毒的话，虽然可能有震颤和性格改变，但流涎和牙龈蓝线不太符合。砷中毒的话，虽然有失眠和食欲减退，但其他症状也不太符合。磷中毒的话，主要症状是胃肠道不适，所以可能不太符合。\n",
      "\n",
      "综合来看，汞中毒的可能性最大，因为流涎过多和牙龈蓝线更符合汞中毒的症状，而震颤和性格改变也有可能。不过我需要再确认一下牙龈蓝线是否确实是汞中毒的一个特征症状。\n",
      "\n",
      "另外，考虑到这位工人在工厂工作，可能接触到汞或其他重金属，所以需要进一步考虑他的工作环境。如果他在工厂里接触到汞，那么汞中毒的可能性就更高了。\n",
      "\n",
      "不过，我还需要考虑其他可能性，比如是否还有其他重金属中毒的症状符合这些表现。比如，铅中毒可能有震颤和性格改变，但流涎和牙龈蓝线不太符合。砷中毒可能有失眠和食欲减退，但其他症状也不太符合。\n",
      "\n",
      "所以，综合所有因素，最可能的中毒类型是汞中毒，因为流涎过多和牙龈蓝线更符合汞中毒的症状，而震颤和性格改变也有可能。不过我需要再确认一下这些症状是否确实与汞中毒有关。\n",
      "</think>\n",
      "content: 这位工厂工人表现出流涎过多、牙龈蓝线、震颤、性格改变、失眠和食欲减退等症状，这些症状综合起来提示可能为某种重金属中毒。经过详细分析，最可能的中毒类型是汞中毒。以下是详细分析：\n",
      "\n",
      "1. **流涎过多**：汞中毒确实会导致唾液分泌增加，这与患者的主要症状之一相符。\n",
      "\n",
      "2. **牙龈蓝线**：虽然牙龈蓝线这个症状不太常见，但汞中毒确实可能导致牙龈出现蓝线，这可能与汞的代谢产物有关。\n",
      "\n",
      "3. **震颤**：汞中毒会导致神经系统症状，包括震颤，这与患者的表现相符。\n",
      "\n",
      "4. **性格改变**：汞中毒可能引起性格改变，如易怒或情绪波动，这也符合患者的症状。\n",
      "\n",
      "5. **失眠和食欲减退**：这些症状可能与汞中毒的神经系统影响有关，也可能与其他重金属中毒的症状相符。\n",
      "\n",
      "6. **工作环境**：患者在工厂工作，可能接触到汞或其他重金属，这增加了汞中毒的可能性。\n",
      "\n",
      "7. **排除其他可能性**：铅中毒通常有腹痛、便秘、贫血等症状，不符合患者的流涎和牙龈蓝线；砷中毒可能有胃肠道不适和皮肤损害，但不符合流涎和牙龈蓝线；磷中毒主要表现为胃肠道症状，不符合震颤和性格改变。\n",
      "\n",
      "综合所有因素，汞中毒的可能性最大，因为流涎过多和牙龈蓝线更符合汞中毒的症状，而震颤和性格改变也有可能。虽然还需要进一步确认牙龈蓝线是否确实是汞中毒的特征症状，但基于现有信息，汞中毒是最可能的诊断。\n"
     ]
    }
   ],
   "source": [
    "prompt = \"该患者是一名工厂工人，表现出流涎过多（即唾液分泌过多）、牙龈蓝线、震颤、性格改变、失眠和食欲减退等症状。这些症状综合起来提示可能为某种重金属中毒。为了确定最可能的中毒类型，我们需要仔细分析这些症状，并结合选项：汞、铅、砷和磷。\"\n",
    "messages = [\n",
    "    {\"role\": \"user\", \"content\": prompt}\n",
    "]\n",
    "text = tokenizer.apply_chat_template(\n",
    "    messages,\n",
    "    tokenize=False,\n",
    "    add_generation_prompt=True,\n",
    "    enable_thinking=True # Switches between thinking and non-thinking modes. Default is True.\n",
    ")\n",
    "model_inputs = tokenizer([text], return_tensors=\"pt\").to(model.device)\n",
    "\n",
    "# conduct text completion\n",
    "generated_ids = model.generate(\n",
    "    **model_inputs,\n",
    "    max_new_tokens=32768\n",
    ")\n",
    "output_ids = generated_ids[0][len(model_inputs.input_ids[0]):].tolist()\n",
    "\n",
    "# parsing thinking content\n",
    "try:\n",
    "    # rindex finding 151668 (</think>)\n",
    "    index = len(output_ids) - output_ids[::-1].index(151668)\n",
    "except ValueError:\n",
    "    index = 0\n",
    "\n",
    "thinking_content = tokenizer.decode(output_ids[:index], skip_special_tokens=True).strip(\"\\n\")\n",
    "content = tokenizer.decode(output_ids[index:], skip_special_tokens=True).strip(\"\\n\")\n",
    "\n",
    "print(\"thinking content:\", thinking_content)\n",
    "print(\"content:\", content)"
   ]
  }
 ],
 "metadata": {
  "kernelspec": {
   "display_name": "unsloth",
   "language": "python",
   "name": "python3"
  },
  "language_info": {
   "codemirror_mode": {
    "name": "ipython",
    "version": 3
   },
   "file_extension": ".py",
   "mimetype": "text/x-python",
   "name": "python",
   "nbconvert_exporter": "python",
   "pygments_lexer": "ipython3",
   "version": "3.11.4"
  }
 },
 "nbformat": 4,
 "nbformat_minor": 5
}
