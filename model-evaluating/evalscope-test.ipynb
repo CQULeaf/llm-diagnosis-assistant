{
 "cells": [
  {
   "cell_type": "code",
   "execution_count": null,
   "id": "a16e5162",
   "metadata": {},
   "outputs": [],
   "source": [
    "from evalscope import TaskConfig, run_task\n",
    "\n",
    "task_cfg = TaskConfig(\n",
    "    model='/root/autodl-tmp/models/ZhiYu-2',\n",
    "    datasets=['live_code_bench','ifeval'],\n",
    "    limit= 100,\n",
    "    eval_batch_size=16,\n",
    ")\n",
    "\n",
    "run_task(task_cfg=task_cfg)"
   ]
  },
  {
   "cell_type": "code",
   "execution_count": null,
   "id": "8c3883b5",
   "metadata": {},
   "outputs": [],
   "source": [
    "#local\n",
    "from evalscope import TaskConfig, run_task\n",
    "\n",
    "task_cfg = TaskConfig(\n",
    "    model='/root/autodl-tmp/models/ZhiYu-2',\n",
    "    datasets=['general_qa'],  # 数据格式，选择题格式固定为 'general_qa'\n",
    "    limit= 100,\n",
    "    dataset_args={\n",
    "        'general_qa': {\n",
    "            \"local_path\": \"/root/autodl-tmp/evalscope-test/qa/huatuo_test.jsonl\",  # 自定义数据集路径\n",
    "            \"subset_list\": [\n",
    "                \"huatuo_test\"       # 评测数据集名称，上述 *.jsonl 中的 *\n",
    "            ]\n",
    "        }\n",
    "    },\n",
    ")\n",
    "\n",
    "run_task(task_cfg=task_cfg)"
   ]
  }
 ],
 "metadata": {
  "kernelspec": {
   "display_name": "evalscope",
   "language": "python",
   "name": "python3"
  },
  "language_info": {
   "codemirror_mode": {
    "name": "ipython",
    "version": 3
   },
   "file_extension": ".py",
   "mimetype": "text/x-python",
   "name": "python",
   "nbconvert_exporter": "python",
   "pygments_lexer": "ipython3",
   "version": "3.10.18"
  }
 },
 "nbformat": 4,
 "nbformat_minor": 5
}
